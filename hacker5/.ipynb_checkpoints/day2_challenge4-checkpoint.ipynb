{
 "cells": [
  {
   "cell_type": "code",
   "execution_count": 1,
   "metadata": {
    "scrolled": true
   },
   "outputs": [
    {
     "name": "stdout",
     "output_type": "stream",
     "text": [
      "../processed_gear_images/axes :\n",
      "../processed_gear_images/boots :\n",
      "../processed_gear_images/carabiners :\n",
      "../processed_gear_images/crampons :\n",
      "../processed_gear_images/gloves :\n",
      "../processed_gear_images/hardshell_jackets :\n",
      "../processed_gear_images/harnesses :\n",
      "../processed_gear_images/helmets :\n",
      "../processed_gear_images/insulated_jackets :\n",
      "../processed_gear_images/pulleys :\n",
      "../processed_gear_images/rope :\n",
      "../processed_gear_images/tents :\n"
     ]
    }
   ],
   "source": [
    "#Load processed images data into array\n",
    "#SPLIT\n",
    "\n",
    "import os\n",
    "from PIL import Image\n",
    "import numpy as np\n",
    "from sklearn.model_selection import train_test_split\n",
    "from sklearn import preprocessing\n",
    "\n",
    "\n",
    "input_image_dir = \"../processed_gear_images\"\n",
    "\n",
    "out_images_x = []\n",
    "out_images_y = []\n",
    "# Read all images from gear_images directory\n",
    "for folder in sorted(os.listdir(input_image_dir)):\n",
    "    folderpath = os.path.join(input_image_dir,folder)\n",
    "    print(folderpath, ':')\n",
    "    for file in sorted(os.listdir(folderpath)):\n",
    "        in_file = folderpath + \"/\" + file\n",
    "        out_images_x.append(in_file)\n",
    "        out_images_y.append(folder)\n",
    "#label encoding\n",
    "le = preprocessing.LabelEncoder()\n",
    "le.fit(out_images_y)\n",
    "list(le.classes_)\n",
    "out_images_y = le.transform(out_images_y) \n",
    "        \n",
    "np_data_X = np.array([np.ravel(Image.open(fname)) for fname in out_images_x])\n",
    "x_train, x_test, y_train, y_test = train_test_split(np_data_X, out_images_y, test_size=.2)\n"
   ]
  },
  {
   "cell_type": "code",
   "execution_count": 5,
   "metadata": {},
   "outputs": [
    {
     "name": "stdout",
     "output_type": "stream",
     "text": [
      "[[0. 0. 0. ... 0. 0. 0.]\n",
      " [0. 0. 1. ... 0. 0. 0.]\n",
      " [0. 0. 0. ... 0. 0. 0.]\n",
      " ...\n",
      " [0. 0. 0. ... 0. 0. 0.]\n",
      " [0. 0. 0. ... 0. 0. 0.]\n",
      " [0. 0. 0. ... 0. 0. 0.]]\n",
      "(1697, 12)\n"
     ]
    }
   ],
   "source": [
    "print(y_train)\n",
    "print(y_train.shape)\n"
   ]
  },
  {
   "cell_type": "code",
   "execution_count": 6,
   "metadata": {},
   "outputs": [
    {
     "name": "stdout",
     "output_type": "stream",
     "text": [
      "x_train shape: (1697, 49152)\n",
      "1697 train samples\n",
      "425 test samples\n"
     ]
    }
   ],
   "source": [
    "# CNN basic\n",
    "\n",
    "from __future__ import print_function\n",
    "import keras\n",
    "from keras.datasets import cifar10\n",
    "from keras.preprocessing.image import ImageDataGenerator\n",
    "from keras.models import Sequential\n",
    "from keras.layers import Dense, Dropout, Activation, Flatten\n",
    "from keras.layers import Conv2D, MaxPooling2D\n",
    "import os\n",
    "\n",
    "batch_size = 32\n",
    "num_classes = 12\n",
    "epochs = 10\n",
    "data_augmentation = True\n",
    "num_predictions = 20\n",
    "save_dir = \"../processed_gear_images\"\n",
    "model_name = 'keras_team6_cnn_trained_model.h5'\n",
    "\n",
    "# The data, split between train and test sets:\n",
    "#(x_train, y_train), (x_test, y_test) = cifar10.load_data()\n",
    "print('x_train shape:', x_train.shape)\n",
    "print(x_train.shape[0], 'train samples')\n",
    "print(x_test.shape[0], 'test samples')\n",
    "\n",
    "# Convert class vectors to binary class matrices.\n",
    "y_train = keras.utils.to_categorical(y_train, num_classes)\n",
    "y_test = keras.utils.to_categorical(y_test, num_classes)\n",
    "\n",
    "model = Sequential()\n",
    "model.add(Conv2D(32, (3, 3), padding='same',\n",
    "                 input_shape=(128, 128, 3)))\n",
    "model.add(Activation('relu'))\n",
    "model.add(Conv2D(32, (3, 3)))\n",
    "model.add(Activation('relu'))\n",
    "model.add(MaxPooling2D(pool_size=(2, 2)))\n",
    "model.add(Dropout(0.25))"
   ]
  },
  {
   "cell_type": "code",
   "execution_count": null,
   "metadata": {},
   "outputs": [],
   "source": []
  }
 ],
 "metadata": {
  "kernelspec": {
   "display_name": "Python 3",
   "language": "python",
   "name": "python3"
  },
  "language_info": {
   "codemirror_mode": {
    "name": "ipython",
    "version": 3
   },
   "file_extension": ".py",
   "mimetype": "text/x-python",
   "name": "python",
   "nbconvert_exporter": "python",
   "pygments_lexer": "ipython3",
   "version": "3.5.4"
  }
 },
 "nbformat": 4,
 "nbformat_minor": 2
}
