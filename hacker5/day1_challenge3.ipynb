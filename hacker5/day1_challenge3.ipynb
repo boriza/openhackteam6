{
 "cells": [
  {
   "cell_type": "code",
   "execution_count": 84,
   "metadata": {},
   "outputs": [
    {
     "name": "stdout",
     "output_type": "stream",
     "text": [
      "../processed_gear_images/axes :\n",
      "../processed_gear_images/boots :\n",
      "../processed_gear_images/carabiners :\n",
      "../processed_gear_images/crampons :\n",
      "../processed_gear_images/gloves :\n",
      "../processed_gear_images/hardshell_jackets :\n",
      "../processed_gear_images/harnesses :\n",
      "../processed_gear_images/helmets :\n",
      "../processed_gear_images/insulated_jackets :\n",
      "../processed_gear_images/pulleys :\n",
      "../processed_gear_images/rope :\n",
      "../processed_gear_images/tents :\n"
     ]
    }
   ],
   "source": [
    "#\n",
    "\n",
    "import os\n",
    "from PIL import Image\n",
    "import numpy as np\n",
    "\n",
    "input_image_dir = \"../processed_gear_images\"\n",
    "\n",
    "out_images_x = []\n",
    "out_images_y = []\n",
    "# Read all images from gear_images directory\n",
    "for folder in sorted(os.listdir(input_image_dir)):\n",
    "    folderpath = os.path.join(input_image_dir,folder)\n",
    "    print(folderpath, ':')\n",
    "    for file in sorted(os.listdir(folderpath)):\n",
    "        in_file = folderpath + \"/\" + file\n",
    "        out_images_x.append(in_file)\n",
    "        out_images_y.append(folder)\n",
    "                \n",
    "np_data_X = np.array([np.ravel(Image.open(fname)) for fname in out_images_x])\n",
    "\n"
   ]
  },
  {
   "cell_type": "code",
   "execution_count": 85,
   "metadata": {},
   "outputs": [
    {
     "name": "stdout",
     "output_type": "stream",
     "text": [
      "(1697, 49152) (425, 49152)\n"
     ]
    }
   ],
   "source": [
    "#SPLIT\n",
    "\n",
    "import numpy as np\n",
    "from sklearn.model_selection import train_test_split\n",
    "\n",
    "#print(np_images)\n",
    "x_train, x_test, y_train, y_test = train_test_split(np_data_X, out_images_y, test_size=.2)\n",
    "\n",
    "print(x_train.shape, x_test.shape )\n",
    "#print (len(y_train), len(y_test))"
   ]
  },
  {
   "cell_type": "code",
   "execution_count": 86,
   "metadata": {},
   "outputs": [
    {
     "name": "stdout",
     "output_type": "stream",
     "text": [
      "[[255 255 255 ... 255 255 255]\n",
      " [255 255 255 ... 255 255 255]\n",
      " [ 87  87  85 ...  87  87  85]\n",
      " ...\n",
      " [  0   0   0 ...   0   0   0]\n",
      " [255 255 255 ... 255 255 255]\n",
      " [255 255 255 ... 255 255 255]]\n"
     ]
    }
   ],
   "source": [
    "print(x_train)"
   ]
  },
  {
   "cell_type": "code",
   "execution_count": 89,
   "metadata": {},
   "outputs": [
    {
     "data": {
      "text/plain": [
       "RandomForestClassifier(bootstrap=True, class_weight=None, criterion='gini',\n",
       "            max_depth=None, max_features='auto', max_leaf_nodes=None,\n",
       "            min_impurity_decrease=0.0, min_impurity_split=None,\n",
       "            min_samples_leaf=1, min_samples_split=2,\n",
       "            min_weight_fraction_leaf=0.0, n_estimators=10, n_jobs=1,\n",
       "            oob_score=False, random_state=None, verbose=0,\n",
       "            warm_start=False)"
      ]
     },
     "execution_count": 89,
     "metadata": {},
     "output_type": "execute_result"
    }
   ],
   "source": [
    "#FIT\n",
    "\n",
    "from sklearn.ensemble import RandomForestClassifier\n",
    "clf = RandomForestClassifier()\n",
    "\n",
    "clf.fit(x_train, y_train)"
   ]
  },
  {
   "cell_type": "code",
   "execution_count": 90,
   "metadata": {},
   "outputs": [
    {
     "name": "stdout",
     "output_type": "stream",
     "text": [
      "Accuracy: 0.8564705882352941\n"
     ]
    }
   ],
   "source": [
    "#TEST\n",
    "\n",
    "from sklearn.metrics import accuracy_score\n",
    "preds = clf.predict(x_test)\n",
    "print(\"Accuracy:\", accuracy_score(y_test,preds))"
   ]
  },
  {
   "cell_type": "code",
   "execution_count": 91,
   "metadata": {},
   "outputs": [],
   "source": [
    "from PIL import Image, ImageOps\n",
    " \n",
    "def resize_image(image_url):\n",
    "    \n",
    "    response = requests.get(image_url)\n",
    "    im = Image.open(BytesIO(response.content))    \n",
    "    desired_size = 128\n",
    "    \n",
    "    old_size = im.size\n",
    "    \n",
    "    ratio = float(desired_size)/max(old_size)\n",
    "    new_size = tuple([int(x*ratio) for x in old_size])\n",
    " \n",
    "    im = im.resize(new_size, Image.ANTIALIAS)\n",
    " \n",
    "    new_im = Image.new(\"RGB\", (desired_size, desired_size), (255,255,255))\n",
    "    new_im.paste(im, ((desired_size-new_size[0])//2,\n",
    "                    (desired_size-new_size[1])//2))\n",
    "    \n",
    "    #new_im = ImageOps.autocontrast(new_im, cutoff=0)\n",
    "    new_im = ImageOps.equalize(new_im)\n",
    "    \n",
    "    #new_im.save(output_image_path)\n",
    "    \n",
    "    return new_im"
   ]
  },
  {
   "cell_type": "code",
   "execution_count": 68,
   "metadata": {},
   "outputs": [
    {
     "name": "stdout",
     "output_type": "stream",
     "text": [
      "[array([255, 255, 255, ..., 255, 255, 255], dtype=uint8)]\n",
      "Result: ['helmets']\n"
     ]
    }
   ],
   "source": [
    "from PIL import Image\n",
    "import requests\n",
    "from io import BytesIO\n",
    "\n",
    "test_image = \"https://shop.epictv.com/sites/default/files/ae42ad29e70ba8ce6b67d3bdb6ab5c6e.jpeg\"\n",
    "\n",
    "img = resize_image(test_image)\n",
    "\n",
    "test_img =  [np.ravel(img)]\n",
    "\n",
    "print(test_img)\n",
    "\n",
    "test_pred = clf.predict(test_img)\n",
    "print(\"Result:\", test_pred)\n"
   ]
  },
  {
   "cell_type": "code",
   "execution_count": 93,
   "metadata": {},
   "outputs": [
    {
     "ename": "NameError",
     "evalue": "name 'plt' is not defined",
     "output_type": "error",
     "traceback": [
      "\u001b[0;31m---------------------------------------------------------------------------\u001b[0m",
      "\u001b[0;31mNameError\u001b[0m                                 Traceback (most recent call last)",
      "\u001b[0;32m<ipython-input-93-c5114d319b88>\u001b[0m in \u001b[0;36m<module>\u001b[0;34m()\u001b[0m\n\u001b[1;32m      9\u001b[0m \u001b[0mcm\u001b[0m \u001b[0;34m=\u001b[0m \u001b[0mconfusion_matrix\u001b[0m\u001b[0;34m(\u001b[0m\u001b[0my_true\u001b[0m\u001b[0;34m,\u001b[0m \u001b[0my_pred\u001b[0m\u001b[0;34m)\u001b[0m\u001b[0;34m\u001b[0m\u001b[0m\n\u001b[1;32m     10\u001b[0m \u001b[0;34m\u001b[0m\u001b[0m\n\u001b[0;32m---> 11\u001b[0;31m \u001b[0mfig\u001b[0m \u001b[0;34m=\u001b[0m \u001b[0mplt\u001b[0m\u001b[0;34m.\u001b[0m\u001b[0mfigure\u001b[0m\u001b[0;34m(\u001b[0m\u001b[0;34m)\u001b[0m\u001b[0;34m\u001b[0m\u001b[0m\n\u001b[0m\u001b[1;32m     12\u001b[0m \u001b[0max\u001b[0m \u001b[0;34m=\u001b[0m \u001b[0mfig\u001b[0m\u001b[0;34m.\u001b[0m\u001b[0madd_subplot\u001b[0m\u001b[0;34m(\u001b[0m\u001b[0;36m111\u001b[0m\u001b[0;34m)\u001b[0m\u001b[0;34m\u001b[0m\u001b[0m\n\u001b[1;32m     13\u001b[0m \u001b[0mcax\u001b[0m \u001b[0;34m=\u001b[0m \u001b[0max\u001b[0m\u001b[0;34m.\u001b[0m\u001b[0mmatshow\u001b[0m\u001b[0;34m(\u001b[0m\u001b[0mcm\u001b[0m\u001b[0;34m)\u001b[0m\u001b[0;34m\u001b[0m\u001b[0m\n",
      "\u001b[0;31mNameError\u001b[0m: name 'plt' is not defined"
     ]
    }
   ],
   "source": [
    "# confusion matrix (notes updated)\n",
    "\n",
    "from sklearn.metrics import confusion_matrix\n",
    "y_true = y_test\n",
    "y_pred = preds\n",
    "print (len(y_true), len(y_pred))\n",
    "confusion_matrix(y_true, y_pred)\n",
    "\n",
    "cm = confusion_matrix(y_true, y_pred)\n",
    "\n",
    "fig = plt.figure()\n",
    "ax = fig.add_subplot(111)\n",
    "cax = ax.matshow(cm)\n",
    "plt.title('Confusion matrix of the classifier')\n",
    "fig.colorbar(cax)\n",
    "ax.set_xticklabels([''] + labels)\n",
    "ax.set_yticklabels([''] + labels)\n",
    "plt.xlabel('Predicted')\n",
    "plt.ylabel('True')\n",
    "plt.show()\n"
   ]
  },
  {
   "cell_type": "code",
   "execution_count": null,
   "metadata": {},
   "outputs": [],
   "source": []
  }
 ],
 "metadata": {
  "kernelspec": {
   "display_name": "Python 3",
   "language": "python",
   "name": "python3"
  },
  "language_info": {
   "codemirror_mode": {
    "name": "ipython",
    "version": 3
   },
   "file_extension": ".py",
   "mimetype": "text/x-python",
   "name": "python",
   "nbconvert_exporter": "python",
   "pygments_lexer": "ipython3",
   "version": "3.5.4"
  }
 },
 "nbformat": 4,
 "nbformat_minor": 2
}
