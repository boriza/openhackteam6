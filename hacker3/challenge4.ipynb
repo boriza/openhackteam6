{
 "cells": [
  {
   "cell_type": "code",
   "execution_count": 11,
   "metadata": {},
   "outputs": [],
   "source": [
    "import os\n",
    "import numpy as np\n",
    "from PIL import Image, ImageOps\n",
    "from sklearn.model_selection import train_test_split\n",
    "import keras\n",
    "from sklearn.metrics import accuracy_score\n",
    "from keras.models import Sequential\n",
    "from keras.layers import Dense, Dropout, Flatten\n",
    "from keras.layers import Conv2D, MaxPooling2D\n",
    "from keras.optimizers import SGD\n",
    "from sklearn.preprocessing import OneHotEncoder, LabelEncoder\n",
    "# formatted folder\n",
    "labels = []\n",
    "items = []\n",
    "\n",
    "def getImages(formatted_dir) :\n",
    "    \n",
    "    # Loop through each subdirectory\n",
    "    for index, folder in enumerate(os.listdir(formatted_dir)):\n",
    "\n",
    "        for file in os.listdir(formatted_dir + '/' + folder):\n",
    "            imgPath = formatted_dir + '/' + folder + '/' + file\n",
    "            img = Image.open(imgPath)\n",
    "\n",
    "            items.append(np.asarray(img)/255)\n",
    "            labels.append(index)\n",
    "        \n",
    "formatted_dir = \"../processed_gear_images\"\n",
    "\n",
    "getImages(formatted_dir)"
   ]
  },
  {
   "cell_type": "code",
   "execution_count": 12,
   "metadata": {},
   "outputs": [],
   "source": [
    "labels_reshaped = keras.utils.to_categorical(labels, num_classes=12)\n",
    "x_train, x_test, y_train, y_test = train_test_split(np.asarray(items), labels_reshaped, test_size=0.1, random_state=42)\n",
    "x_train, x_valid, y_train, y_valid = train_test_split(x_train, y_train, test_size=0.2, random_state=42)"
   ]
  },
  {
   "cell_type": "code",
   "execution_count": 15,
   "metadata": {},
   "outputs": [
    {
     "name": "stdout",
     "output_type": "stream",
     "text": [
      "(1527, 128, 128, 3)\n",
      "(1527, 12)\n"
     ]
    }
   ],
   "source": [
    "\n",
    "model = Sequential()\n",
    "# input: 128x128 images with 3 channels -> (100, 100, 3) tensors.\n",
    "# this applies 32 convolution filters of size 3x3 each.\n",
    "model.add(Conv2D(32, (3, 3), activation='relu', input_shape=(128, 128, 3)))\n",
    "model.add(MaxPooling2D(pool_size=(2, 2)))\n",
    "\n",
    "model.add(Conv2D(64, (3, 3), activation='relu'))\n",
    "model.add(MaxPooling2D(pool_size=(2, 2)))\n",
    "\n",
    "model.add(Flatten())\n",
    "model.add(Dropout(0.25))\n",
    "model.add(Dense(12, activation='softmax'))\n",
    "\n",
    "sgd = SGD(lr=0.01, decay=1e-6, momentum=0.9, nesterov=True)\n",
    "model.compile(loss='categorical_crossentropy', optimizer=sgd, metrics=['accuracy'])\n",
    "\n",
    "print(x_train.shape)\n",
    "print(y_train.shape)\n",
    "\n",
    "#model.fit(x_train, y_train, batch_size=32, epochs=10, validation_data=(x_valid, y_valid))\n",
    "#score = model.evaluate(x_test, y_test, batch_size=32)"
   ]
  },
  {
   "cell_type": "code",
   "execution_count": null,
   "metadata": {},
   "outputs": [],
   "source": []
  }
 ],
 "metadata": {
  "kernelspec": {
   "display_name": "Python 3",
   "language": "python",
   "name": "python3"
  },
  "language_info": {
   "codemirror_mode": {
    "name": "ipython",
    "version": 3
   },
   "file_extension": ".py",
   "mimetype": "text/x-python",
   "name": "python",
   "nbconvert_exporter": "python",
   "pygments_lexer": "ipython3",
   "version": "3.5.4"
  }
 },
 "nbformat": 4,
 "nbformat_minor": 2
}
